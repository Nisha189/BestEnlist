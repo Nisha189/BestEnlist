{
 "cells": [
  {
   "cell_type": "code",
   "execution_count": 1,
   "metadata": {},
   "outputs": [
    {
     "name": "stdout",
     "output_type": "stream",
     "text": [
      "Enter the first number:6\n",
      "Enter the second number:3\n",
      "Addition of two numbers is  9\n",
      "Subtraction of two numbers is  3\n",
      "Division of two numbers is 2.0\n",
      "Subtraction of two numbers is  18\n"
     ]
    }
   ],
   "source": [
    "x=int(input(\"Enter the first number:\"))\n",
    "y=int(input(\"Enter the second number:\"))\n",
    "def arithmetic_operations(a,b):\n",
    "    print(\"Addition of two numbers is \",a+b)\n",
    "    print(\"Subtraction of two numbers is \",a-b)\n",
    "    print(\"Division of two numbers is\",a/b)\n",
    "    print(\"Subtraction of two numbers is \",a*b)\n",
    "arithmetic_operations(x,y)"
   ]
  },
  {
   "cell_type": "code",
   "execution_count": 5,
   "metadata": {},
   "outputs": [
    {
     "name": "stdout",
     "output_type": "stream",
     "text": [
      "Enter the patient's name:Rohit\n",
      "Patient's name is  Rohit\n",
      "Body temperature is  98\n"
     ]
    }
   ],
   "source": [
    "x=str(input(\"Enter the patient's name:\"))\n",
    "y\n",
    "def covid(patient_name,body_temperature=\"98\"):\n",
    "    print(\"Patient's name is \",patient_name)\n",
    "    print(\"Body temperature is \",body_temperature)\n",
    "covid(x,y)"
   ]
  },
  {
   "cell_type": "code",
   "execution_count": null,
   "metadata": {},
   "outputs": [],
   "source": []
  }
 ],
 "metadata": {
  "kernelspec": {
   "display_name": "Python 3",
   "language": "python",
   "name": "python3"
  },
  "language_info": {
   "codemirror_mode": {
    "name": "ipython",
    "version": 3
   },
   "file_extension": ".py",
   "mimetype": "text/x-python",
   "name": "python",
   "nbconvert_exporter": "python",
   "pygments_lexer": "ipython3",
   "version": "3.7.6"
  }
 },
 "nbformat": 4,
 "nbformat_minor": 4
}
