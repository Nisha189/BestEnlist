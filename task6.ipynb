{
 "cells": [
  {
   "cell_type": "code",
   "execution_count": 1,
   "metadata": {},
   "outputs": [
    {
     "name": "stdout",
     "output_type": "stream",
     "text": [
      "list2 =  [5, 6, 8, 9, 11]\n"
     ]
    }
   ],
   "source": [
    "list1=[3,4,6,7,9]\n",
    "list2=[]\n",
    "for i in range(0,len(list1)):\n",
    "    list2.append(list1[i]+2)\n",
    "print(\"list2 = \",list2)"
   ]
  },
  {
   "cell_type": "code",
   "execution_count": 2,
   "metadata": {},
   "outputs": [
    {
     "name": "stdout",
     "output_type": "stream",
     "text": [
      "5 4 3 2 1 \n",
      "4 3 2 1 \n",
      "3 2 1 \n",
      "2 1 \n",
      "1 \n",
      "\n"
     ]
    }
   ],
   "source": [
    "rows=5\n",
    "for i in range(0,rows+1):\n",
    "    for j in range(rows-i,0,-1):\n",
    "        print(j,end=' ')\n",
    "    print()"
   ]
  },
  {
   "cell_type": "code",
   "execution_count": 5,
   "metadata": {},
   "outputs": [
    {
     "name": "stdout",
     "output_type": "stream",
     "text": [
      "Fibonacci sequence:\n",
      "0\n",
      "1\n",
      "1\n",
      "2\n",
      "3\n",
      "5\n"
     ]
    }
   ],
   "source": [
    "n=6\n",
    "n1,n2=0,1\n",
    "count=0\n",
    "if n<=0:\n",
    "    print(\"Negative integer\")\n",
    "elif n==1:\n",
    "    print(\"Fibonacci sequence:\",n)\n",
    "    print(n1)\n",
    "else:\n",
    "    print(\"Fibonacci sequence:\")\n",
    "    while count<n:\n",
    "        print(n1)\n",
    "        n3=n1+n2\n",
    "        n1=n2\n",
    "        n2=n3\n",
    "        count+=1"
   ]
  },
  {
   "cell_type": "code",
   "execution_count": 7,
   "metadata": {},
   "outputs": [],
   "source": [
    "# Armstrong number is the number that is equal to the sum of the cubes of its own digits.\n"
   ]
  },
  {
   "cell_type": "code",
   "execution_count": 9,
   "metadata": {},
   "outputs": [
    {
     "name": "stdout",
     "output_type": "stream",
     "text": [
      "Enter the number:371\n",
      "The number is armstrong number\n"
     ]
    }
   ],
   "source": [
    "num=int(input(\"Enter the number:\"))\n",
    "sum1=0\n",
    "temp=num\n",
    "while temp>0:\n",
    "    digit=temp%10\n",
    "    sum1+=digit**3\n",
    "    temp//=10\n",
    "if num==sum1:\n",
    "    print(\"The number is armstrong number\")\n",
    "else:\n",
    "    print(\"The number is not armstrong number\")"
   ]
  },
  {
   "cell_type": "code",
   "execution_count": 11,
   "metadata": {},
   "outputs": [
    {
     "name": "stdout",
     "output_type": "stream",
     "text": [
      "Multiplication table of  9\n",
      "9 x 1 = 9\n",
      "9 x 2 = 18\n",
      "9 x 3 = 27\n",
      "9 x 4 = 36\n",
      "9 x 5 = 45\n",
      "9 x 6 = 54\n",
      "9 x 7 = 63\n",
      "9 x 8 = 72\n",
      "9 x 9 = 81\n",
      "9 x 10 = 90\n",
      "9 x 11 = 99\n",
      "9 x 12 = 108\n"
     ]
    }
   ],
   "source": [
    "num=9\n",
    "print(\"Multiplication table of \",num)\n",
    "for i in range(1,13):\n",
    "    print(num,\"x\",i,\"=\",num*i)"
   ]
  },
  {
   "cell_type": "code",
   "execution_count": 13,
   "metadata": {},
   "outputs": [
    {
     "name": "stdout",
     "output_type": "stream",
     "text": [
      "Enter the number:-8\n",
      "The number is negative\n"
     ]
    }
   ],
   "source": [
    "num=int(input(\"Enter the number:\"))\n",
    "if(num>0):\n",
    "    print(\"The number is positive\")\n",
    "else:\n",
    "    print(\"The number is negative\")"
   ]
  },
  {
   "cell_type": "code",
   "execution_count": 19,
   "metadata": {},
   "outputs": [
    {
     "name": "stdout",
     "output_type": "stream",
     "text": [
      "Number of ages is \n",
      "1.5068493150684932\n"
     ]
    }
   ],
   "source": [
    "days=550\n",
    "ages=days/365\n",
    "print(\"Number of ages is \")\n",
    "print(ages)"
   ]
  },
  {
   "cell_type": "code",
   "execution_count": 24,
   "metadata": {},
   "outputs": [
    {
     "name": "stdout",
     "output_type": "stream",
     "text": [
      "Value of sine of pi/8 is: 0.3826834323650898\n",
      "Value of cosine of pi/8 is: 0.9238795325112867\n",
      "Value of tangent of pi/8 is: 0.41421356237309503\n",
      "Value of hypotenuse of m and q is: 6.4031242374328485\n"
     ]
    }
   ],
   "source": [
    "import math\n",
    "n=math.pi/8\n",
    "m=4\n",
    "q=5\n",
    "print(\"Value of sine of pi/8 is:\",end=\" \")\n",
    "print(math.sin(n))\n",
    "print(\"Value of cosine of pi/8 is:\",end=\" \")\n",
    "print(math.cos(n))\n",
    "print(\"Value of tangent of pi/8 is:\",end=\" \")\n",
    "print(math.tan(n))\n",
    "print(\"Value of hypotenuse of m and q is:\",end=\" \")\n",
    "print(math.hypot(m,q))\n",
    "\n"
   ]
  },
  {
   "cell_type": "code",
   "execution_count": 27,
   "metadata": {},
   "outputs": [
    {
     "name": "stdout",
     "output_type": "stream",
     "text": [
      "Enter the choice:3\n",
      "Enter two numbers:\n",
      "56\n",
      "4\n",
      "Result =  224\n"
     ]
    }
   ],
   "source": [
    "choice=int(input(\"Enter the choice:\"))\n",
    "if(choice>=1 and choice<=4):\n",
    "    print(\"Enter two numbers:\")\n",
    "    n1=int(input())\n",
    "    n2=int(input())\n",
    "    if choice==1:\n",
    "        res=n1+n2\n",
    "        print(\"Result = \",res)\n",
    "    elif choice==2:\n",
    "        res=n1-n2\n",
    "        print(\"Result = \",res)\n",
    "    elif choice==3:\n",
    "        res=n1*n2\n",
    "        print(\"Result = \",res)\n",
    "    elif choice==4:\n",
    "        res=n1/n2\n",
    "        print(\"Result = \",res)\n",
    "    elif choice==5:\n",
    "        exit()\n",
    "else:\n",
    "    print(\"Invalid input!\")\n",
    "                \n",
    "                "
   ]
  }
 ],
 "metadata": {
  "kernelspec": {
   "display_name": "Python 3",
   "language": "python",
   "name": "python3"
  },
  "language_info": {
   "codemirror_mode": {
    "name": "ipython",
    "version": 3
   },
   "file_extension": ".py",
   "mimetype": "text/x-python",
   "name": "python",
   "nbconvert_exporter": "python",
   "pygments_lexer": "ipython3",
   "version": "3.7.6"
  }
 },
 "nbformat": 4,
 "nbformat_minor": 4
}
